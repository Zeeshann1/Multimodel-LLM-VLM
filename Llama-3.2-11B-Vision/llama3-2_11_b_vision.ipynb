{
  "nbformat": 4,
  "nbformat_minor": 0,
  "metadata": {
    "colab": {
      "provenance": [],
      "authorship_tag": "ABX9TyN9jKPXECWTKq/jhXFctFyP",
      "include_colab_link": true
    },
    "kernelspec": {
      "name": "python3",
      "display_name": "Python 3"
    },
    "language_info": {
      "name": "python"
    }
  },
  "cells": [
    {
      "cell_type": "markdown",
      "metadata": {
        "id": "view-in-github",
        "colab_type": "text"
      },
      "source": [
        "<a href=\"https://colab.research.google.com/gist/ruchibahl18/9cca61b704a2c9816304226689f223eb/llama3-2_11_b_vision.ipynb\" target=\"_parent\"><img src=\"https://colab.research.google.com/assets/colab-badge.svg\" alt=\"Open In Colab\"/></a>"
      ]
    },
    {
      "cell_type": "code",
      "execution_count": 1,
      "metadata": {
        "colab": {
          "base_uri": "https://localhost:8080/"
        },
        "id": "Y9jO4SEgzeU-",
        "outputId": "3b09db2d-f289-4b12-e4c3-1feb5611c4b4"
      },
      "outputs": [
        {
          "output_type": "stream",
          "name": "stdout",
          "text": [
            "Collecting groq\n",
            "  Downloading groq-0.11.0-py3-none-any.whl.metadata (13 kB)\n",
            "Requirement already satisfied: anyio<5,>=3.5.0 in /usr/local/lib/python3.10/dist-packages (from groq) (3.7.1)\n",
            "Requirement already satisfied: distro<2,>=1.7.0 in /usr/lib/python3/dist-packages (from groq) (1.7.0)\n",
            "Collecting httpx<1,>=0.23.0 (from groq)\n",
            "  Downloading httpx-0.27.2-py3-none-any.whl.metadata (7.1 kB)\n",
            "Requirement already satisfied: pydantic<3,>=1.9.0 in /usr/local/lib/python3.10/dist-packages (from groq) (2.9.2)\n",
            "Requirement already satisfied: sniffio in /usr/local/lib/python3.10/dist-packages (from groq) (1.3.1)\n",
            "Requirement already satisfied: typing-extensions<5,>=4.7 in /usr/local/lib/python3.10/dist-packages (from groq) (4.12.2)\n",
            "Requirement already satisfied: idna>=2.8 in /usr/local/lib/python3.10/dist-packages (from anyio<5,>=3.5.0->groq) (3.10)\n",
            "Requirement already satisfied: exceptiongroup in /usr/local/lib/python3.10/dist-packages (from anyio<5,>=3.5.0->groq) (1.2.2)\n",
            "Requirement already satisfied: certifi in /usr/local/lib/python3.10/dist-packages (from httpx<1,>=0.23.0->groq) (2024.8.30)\n",
            "Collecting httpcore==1.* (from httpx<1,>=0.23.0->groq)\n",
            "  Downloading httpcore-1.0.5-py3-none-any.whl.metadata (20 kB)\n",
            "Collecting h11<0.15,>=0.13 (from httpcore==1.*->httpx<1,>=0.23.0->groq)\n",
            "  Downloading h11-0.14.0-py3-none-any.whl.metadata (8.2 kB)\n",
            "Requirement already satisfied: annotated-types>=0.6.0 in /usr/local/lib/python3.10/dist-packages (from pydantic<3,>=1.9.0->groq) (0.7.0)\n",
            "Requirement already satisfied: pydantic-core==2.23.4 in /usr/local/lib/python3.10/dist-packages (from pydantic<3,>=1.9.0->groq) (2.23.4)\n",
            "Downloading groq-0.11.0-py3-none-any.whl (106 kB)\n",
            "\u001b[2K   \u001b[90m━━━━━━━━━━━━━━━━━━━━━━━━━━━━━━━━━━━━━━━━\u001b[0m \u001b[32m106.5/106.5 kB\u001b[0m \u001b[31m5.8 MB/s\u001b[0m eta \u001b[36m0:00:00\u001b[0m\n",
            "\u001b[?25hDownloading httpx-0.27.2-py3-none-any.whl (76 kB)\n",
            "\u001b[2K   \u001b[90m━━━━━━━━━━━━━━━━━━━━━━━━━━━━━━━━━━━━━━━━\u001b[0m \u001b[32m76.4/76.4 kB\u001b[0m \u001b[31m3.9 MB/s\u001b[0m eta \u001b[36m0:00:00\u001b[0m\n",
            "\u001b[?25hDownloading httpcore-1.0.5-py3-none-any.whl (77 kB)\n",
            "\u001b[2K   \u001b[90m━━━━━━━━━━━━━━━━━━━━━━━━━━━━━━━━━━━━━━━━\u001b[0m \u001b[32m77.9/77.9 kB\u001b[0m \u001b[31m3.0 MB/s\u001b[0m eta \u001b[36m0:00:00\u001b[0m\n",
            "\u001b[?25hDownloading h11-0.14.0-py3-none-any.whl (58 kB)\n",
            "\u001b[2K   \u001b[90m━━━━━━━━━━━━━━━━━━━━━━━━━━━━━━━━━━━━━━━━\u001b[0m \u001b[32m58.3/58.3 kB\u001b[0m \u001b[31m1.9 MB/s\u001b[0m eta \u001b[36m0:00:00\u001b[0m\n",
            "\u001b[?25hInstalling collected packages: h11, httpcore, httpx, groq\n",
            "Successfully installed groq-0.11.0 h11-0.14.0 httpcore-1.0.5 httpx-0.27.2\n"
          ]
        }
      ],
      "source": [
        "!pip install groq"
      ]
    },
    {
      "cell_type": "code",
      "source": [
        "# Import packages\n",
        "from groq import Groq\n",
        "import base64\n",
        "from IPython.display import Image\n",
        "import os\n"
      ],
      "metadata": {
        "id": "qgkwksCIzhMm"
      },
      "execution_count": 2,
      "outputs": []
    },
    {
      "cell_type": "code",
      "source": [
        "from google.colab import userdata\n",
        "os.environ[\"GROQ_API_KEY\"] = userdata.get('groq')"
      ],
      "metadata": {
        "id": "tWp5gb-11XOr"
      },
      "execution_count": 4,
      "outputs": []
    },
    {
      "cell_type": "code",
      "source": [
        "\n",
        "client = Groq()\n",
        "llama_3_2_Vision_11B = 'llama-3.2-11b-vision-preview'\n",
        "llama32_model = 'llama-3.2-3b-preview'"
      ],
      "metadata": {
        "id": "QapTlmAz08d8"
      },
      "execution_count": 20,
      "outputs": []
    },
    {
      "cell_type": "code",
      "source": [
        "# Load and display image\n",
        "image_path = 'images/dog.jpg'\n",
        "Image(image_path)"
      ],
      "metadata": {
        "colab": {
          "base_uri": "https://localhost:8080/",
          "height": 196
        },
        "id": "p2-wFIif1wMg",
        "outputId": "bddcea55-b9a8-4ecd-e64f-cc0b737ae0dd"
      },
      "execution_count": 6,
      "outputs": [
        {
          "output_type": "execute_result",
          "data": {
            "image/jpeg": "[encoded data removed]",
            "text/plain": [
              "<IPython.core.display.Image object>"
            ]
          },
          "metadata": {},
          "execution_count": 6
        }
      ]
    },
    {
      "cell_type": "code",
      "source": [
        "# Define image encoding function\n",
        "def encode_image(image_path):\n",
        "  with open(image_path, \"rb\") as image_file:\n",
        "    return base64.b64encode(image_file.read()).decode('utf-8')\n",
        "\n",
        "base64_image = encode_image(image_path)"
      ],
      "metadata": {
        "id": "LAv3cSmR11A6"
      },
      "execution_count": 13,
      "outputs": []
    },
    {
      "cell_type": "code",
      "source": [
        "# Define image to text function\n",
        "def image_to_text(client, model, base64_image, prompt):\n",
        "    chat_completion = client.chat.completions.create(\n",
        "        messages=[\n",
        "            {\n",
        "                \"role\": \"user\",\n",
        "                \"content\": [\n",
        "                    {\"type\": \"text\", \"text\": prompt},\n",
        "                    {\n",
        "                        \"type\": \"image_url\",\n",
        "                        \"image_url\": {\n",
        "                            \"url\": f\"data:image/jpeg;base64,{base64_image}\",\n",
        "                        },\n",
        "                    },\n",
        "                ],\n",
        "            }\n",
        "        ],\n",
        "        model=model\n",
        "    )\n",
        "\n",
        "    return chat_completion.choices[0].message.content\n",
        "\n",
        "prompt = \"Describe this image\"\n",
        "image_to_text(client, llama_3_2_Vision_11B, base64_image, prompt)"
      ],
      "metadata": {
        "colab": {
          "base_uri": "https://localhost:8080/",
          "height": 70
        },
        "id": "Gls0_77j131W",
        "outputId": "fa603001-5e06-47d6-fa53-1cde76c4ddaf"
      },
      "execution_count": 18,
      "outputs": [
        {
          "output_type": "execute_result",
          "data": {
            "text/plain": [
              "\"The image depicts a serene scene of a brown and white bulldog standing on a lush grassy field. The dog, positioned centrally in the frame, faces to the left, its head turned slightly towards the camera. Its short, muscular body is covered in a thick coat of brown and white fur, complemented by dark brown ears and a black nose. The dog's ears are folded back, adding to its endearing expression.\\n\\nThe grassy field, which occupies most of the image, is a vibrant green color and appears to be well-maintained. The background is blurred, but it appears to be a natural setting, possibly a park or a field, with some bushes or trees visible in the distance. The overall atmosphere of the image is one of tranquility and contentment, as the dog seems to be enjoying the fresh air and peaceful surroundings.\""
            ],
            "application/vnd.google.colaboratory.intrinsic+json": {
              "type": "string"
            }
          },
          "metadata": {},
          "execution_count": 18
        }
      ]
    },
    {
      "cell_type": "code",
      "source": [
        "# Define short story generation function\n",
        "def short_story_generation(client, image_description):\n",
        "    chat_completion = client.chat.completions.create(\n",
        "        messages=[\n",
        "            {\n",
        "                \"role\": \"system\",\n",
        "                \"content\": \"You are a children's book author. Write a short story about the scene depicted in this image or images.\",\n",
        "            },\n",
        "            {\n",
        "                \"role\": \"user\",\n",
        "                \"content\": image_description,\n",
        "            }\n",
        "        ],\n",
        "        model=llama32_model\n",
        "    )\n",
        "\n",
        "    return chat_completion.choices[0].message.content\n",
        "\n",
        "prompt = '''\n",
        "Describe this image in detail, including the appearance of the dog(s) and any notable actions or behaviors.\n",
        "'''\n",
        "image_description = image_to_text(client, llama_3_2_Vision_11B, base64_image, prompt)\n",
        "\n",
        "print(short_story_generation(client, image_description))"
      ],
      "metadata": {
        "colab": {
          "base_uri": "https://localhost:8080/"
        },
        "id": "0GRpAAuH18o5",
        "outputId": "2d105a05-3117-4025-ab80-f4d1450851c5"
      },
      "execution_count": 21,
      "outputs": [
        {
          "output_type": "stream",
          "name": "stdout",
          "text": [
            "**\"Bramble's Sunny Day\"**\n",
            "\n",
            "The sun was shining brightly in the sky, casting a warm glow over the lush green field where Bramble stood proudly. His wrinkled ears flapped gently in the breeze, as he tilted his head to the left, gazing directly at the photographer. Bramble's thick black nose twitched with excitement, and his large brown eyes sparkled with curiosity.\n",
            "\n",
            "As the photographer snapped away, Bramble's rounded, smooth back coat glistened in the sunlight, displaying its intricate patterns of tan and brown, with dark brown spots scattered across his chest. His white coat was clean and radiant, while his tan-colored coat seemed to glow with a warm, golden light.\n",
            "\n",
            "Bramble's paws, with their light pink pads, were tucked gently beneath him, as if ready to spring into action at a moment's notice. His heavy body, weighted evenly on his four legs, exuded a sense of confidence and contentment. His tail, cropped short and curved up, wagged ever so slightly, betraying Bramble's enthusiasm for the photo shoot.\n",
            "\n",
            "As the photographer continued to snap away, Bramble's skin creased and softened in the warm light. His cheeks and eyes wrinkled with a quiet intensity, as if trying to hold a secret. The light from the sun danced across his face, creating a shadowy interplay of light and dark that highlighted his rugged features.\n",
            "\n",
            "In the background, the blurred outlines of tree canopies stretched towards the sky, their branches swaying gently in the breeze. Beyond the field, the brown grass on the edges seemed to fade away, replaced by the vibrant green of the surrounding woods.\n",
            "\n",
            "As the photographer asked Bramble to sit, the bulldog lowered his heavy body onto the grass, his paws splayed out to the sides. For a moment, he settled into a serene stillness, his eyes locked on the photographer, his fur radiating a sense of joy and contentment. It was as if Bramble knew that this moment, standing on this sunny field, was one to be treasured forever.\n"
          ]
        }
      ]
    },
    {
      "cell_type": "code",
      "source": [
        "base64_image1 = encode_image('images/pointer.jpg')\n",
        "base64_image2 = encode_image('images/dog.jpg')\n",
        "\n",
        "image_description1 = image_to_text(client, llama_3_2_Vision_11B, base64_image1, prompt)\n",
        "image_description2 = image_to_text(client, llama_3_2_Vision_11B, base64_image2, prompt)\n",
        "\n",
        "combined_image_description = image_description1 + '\\n\\n' + image_description2\n",
        "\n",
        "print(short_story_generation(client, combined_image_description))"
      ],
      "metadata": {
        "id": "MhbCrBfw2BV-",
        "outputId": "a8e1aa84-ae4e-447e-c954-f5c2b191f423",
        "colab": {
          "base_uri": "https://localhost:8080/"
        }
      },
      "execution_count": 22,
      "outputs": [
        {
          "output_type": "stream",
          "name": "stdout",
          "text": [
            "**\"The Hunt Begins\"**\n",
            "\n",
            "As the sun shone brightly in the sky, Jasper, the Pointer, and his loyal companion, Roman, the Vizsla, sat poised in the lush green field. Their noses twitched in unison, lifted high to catch even the faintest scent. Their tails stood at attention, their ears flapping gently in the breeze.\n",
            "\n",
            "Jasper, the seasoned hunter, stood straight and tall, his long legs coiled, ready to spring into action. Roman, the energetic younger sibling, sat lower, his paws tucked under his body, a look of excitement and anticipation on his face.\n",
            "\n",
            "The two dogs were on high alert, their senses heightened as they scanned the surroundings. The trees swayed in the wind, their leaves rustling softly, while the grass beneath them was a vibrant green. A few clumps of straw-stained brown grass poked through the lush growth, a testament to Jasper's years of hunting experience.\n",
            "\n",
            "The air was filled with the sweet scent of blooming wildflowers and the earthy aroma of damp soil. The clouds drifted lazily across the sky, casting dappled shadows on the ground. But Jasper and Roman were focused on one thing – the thrill of the hunt.\n",
            "\n",
            "As they stood watch, their tongues lolling from their mouths, they took in every detail of their surroundings. Their coats glistened in the sunlight, a testament to their health and well-being. The warm rays of the sun danced across their fur, invigorating them for the excitement to come.\n",
            "\n",
            "Jasper, with his piercing gaze, was the master of stealth and strategy. Roman, with his boundless energy, was the spark that ignited the chase. Together, they were an unstoppable duo, driven by their instinct and their bond with each other.\n",
            "\n",
            "As they stood there, poised on the edge of the hunt, Jasper lifted his head ever so slightly, his nose twitching in anticipation. Roman's ears perked up, and he let out a soft whine, sensing that the moment was almost upon them.\n",
            "\n",
            "And then, in a flash of movement, they would spring into action – the hunt would begin, and Jasper and Roman would prove themselves to be the ultimate hunting partners.\n"
          ]
        }
      ]
    }
  ]
}